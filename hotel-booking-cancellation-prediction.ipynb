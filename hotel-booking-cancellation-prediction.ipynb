{
 "cells": [
  {
   "cell_type": "code",
   "execution_count": 1,
   "id": "7c6aba7c",
   "metadata": {
    "_cell_guid": "b1076dfc-b9ad-4769-8c92-a6c4dae69d19",
    "_uuid": "8f2839f25d086af736a60e9eeb907d3b93b6e0e5",
    "execution": {
     "iopub.execute_input": "2023-12-04T13:40:53.327556Z",
     "iopub.status.busy": "2023-12-04T13:40:53.327036Z",
     "iopub.status.idle": "2023-12-04T13:40:53.777429Z",
     "shell.execute_reply": "2023-12-04T13:40:53.776206Z"
    },
    "papermill": {
     "duration": 0.462175,
     "end_time": "2023-12-04T13:40:53.780124",
     "exception": false,
     "start_time": "2023-12-04T13:40:53.317949",
     "status": "completed"
    },
    "tags": []
   },
   "outputs": [
    {
     "name": "stdout",
     "output_type": "stream",
     "text": [
      "/kaggle/input/hotel-booking-cancellation-prediction/booking.csv\n"
     ]
    }
   ],
   "source": [
    "# This Python 3 environment comes with many helpful analytics libraries installed\n",
    "# It is defined by the kaggle/python Docker image: https://github.com/kaggle/docker-python\n",
    "# For example, here's several helpful packages to load\n",
    "\n",
    "import numpy as np # linear algebra\n",
    "import pandas as pd # data processing, CSV file I/O (e.g. pd.read_csv)\n",
    "\n",
    "# Input data files are available in the read-only \"../input/\" directory\n",
    "# For example, running this (by clicking run or pressing Shift+Enter) will list all files under the input directory\n",
    "\n",
    "import os\n",
    "for dirname, _, filenames in os.walk('/kaggle/input'):\n",
    "    for filename in filenames:\n",
    "        print(os.path.join(dirname, filename))\n",
    "\n",
    "# You can write up to 20GB to the current directory (/kaggle/working/) that gets preserved as output when you create a version using \"Save & Run All\" \n",
    "# You can also write temporary files to /kaggle/temp/, but they won't be saved outside of the current session"
   ]
  },
  {
   "cell_type": "code",
   "execution_count": 2,
   "id": "e43d28c7",
   "metadata": {
    "execution": {
     "iopub.execute_input": "2023-12-04T13:40:53.798257Z",
     "iopub.status.busy": "2023-12-04T13:40:53.797748Z",
     "iopub.status.idle": "2023-12-04T13:40:53.803512Z",
     "shell.execute_reply": "2023-12-04T13:40:53.802186Z"
    },
    "papermill": {
     "duration": 0.016774,
     "end_time": "2023-12-04T13:40:53.806177",
     "exception": false,
     "start_time": "2023-12-04T13:40:53.789403",
     "status": "completed"
    },
    "tags": []
   },
   "outputs": [
    {
     "name": "stdout",
     "output_type": "stream",
     "text": [
      "/kaggle/input/hotel-booking-cancellation-prediction\n"
     ]
    }
   ],
   "source": [
    "print(dirname)"
   ]
  },
  {
   "cell_type": "code",
   "execution_count": 3,
   "id": "f9c26e60",
   "metadata": {
    "execution": {
     "iopub.execute_input": "2023-12-04T13:40:53.822085Z",
     "iopub.status.busy": "2023-12-04T13:40:53.821673Z",
     "iopub.status.idle": "2023-12-04T13:40:54.000848Z",
     "shell.execute_reply": "2023-12-04T13:40:53.999747Z"
    },
    "papermill": {
     "duration": 0.190408,
     "end_time": "2023-12-04T13:40:54.003631",
     "exception": false,
     "start_time": "2023-12-04T13:40:53.813223",
     "status": "completed"
    },
    "tags": []
   },
   "outputs": [],
   "source": [
    "df=pd.read_csv(os.path.join(dirname, filename))"
   ]
  },
  {
   "cell_type": "code",
   "execution_count": 4,
   "id": "09614bae",
   "metadata": {
    "execution": {
     "iopub.execute_input": "2023-12-04T13:40:54.019962Z",
     "iopub.status.busy": "2023-12-04T13:40:54.019543Z",
     "iopub.status.idle": "2023-12-04T13:40:54.053173Z",
     "shell.execute_reply": "2023-12-04T13:40:54.052091Z"
    },
    "papermill": {
     "duration": 0.04491,
     "end_time": "2023-12-04T13:40:54.055793",
     "exception": false,
     "start_time": "2023-12-04T13:40:54.010883",
     "status": "completed"
    },
    "tags": []
   },
   "outputs": [
    {
     "data": {
      "text/html": [
       "<div>\n",
       "<style scoped>\n",
       "    .dataframe tbody tr th:only-of-type {\n",
       "        vertical-align: middle;\n",
       "    }\n",
       "\n",
       "    .dataframe tbody tr th {\n",
       "        vertical-align: top;\n",
       "    }\n",
       "\n",
       "    .dataframe thead th {\n",
       "        text-align: right;\n",
       "    }\n",
       "</style>\n",
       "<table border=\"1\" class=\"dataframe\">\n",
       "  <thead>\n",
       "    <tr style=\"text-align: right;\">\n",
       "      <th></th>\n",
       "      <th>Booking_ID</th>\n",
       "      <th>number of adults</th>\n",
       "      <th>number of children</th>\n",
       "      <th>number of weekend nights</th>\n",
       "      <th>number of week nights</th>\n",
       "      <th>type of meal</th>\n",
       "      <th>car parking space</th>\n",
       "      <th>room type</th>\n",
       "      <th>lead time</th>\n",
       "      <th>market segment type</th>\n",
       "      <th>repeated</th>\n",
       "      <th>P-C</th>\n",
       "      <th>P-not-C</th>\n",
       "      <th>average price</th>\n",
       "      <th>special requests</th>\n",
       "      <th>date of reservation</th>\n",
       "      <th>booking status</th>\n",
       "    </tr>\n",
       "  </thead>\n",
       "  <tbody>\n",
       "    <tr>\n",
       "      <th>0</th>\n",
       "      <td>INN00001</td>\n",
       "      <td>1</td>\n",
       "      <td>1</td>\n",
       "      <td>2</td>\n",
       "      <td>5</td>\n",
       "      <td>Meal Plan 1</td>\n",
       "      <td>0</td>\n",
       "      <td>Room_Type 1</td>\n",
       "      <td>224</td>\n",
       "      <td>Offline</td>\n",
       "      <td>0</td>\n",
       "      <td>0</td>\n",
       "      <td>0</td>\n",
       "      <td>88.00</td>\n",
       "      <td>0</td>\n",
       "      <td>10/2/2015</td>\n",
       "      <td>Not_Canceled</td>\n",
       "    </tr>\n",
       "    <tr>\n",
       "      <th>1</th>\n",
       "      <td>INN00002</td>\n",
       "      <td>1</td>\n",
       "      <td>0</td>\n",
       "      <td>1</td>\n",
       "      <td>3</td>\n",
       "      <td>Not Selected</td>\n",
       "      <td>0</td>\n",
       "      <td>Room_Type 1</td>\n",
       "      <td>5</td>\n",
       "      <td>Online</td>\n",
       "      <td>0</td>\n",
       "      <td>0</td>\n",
       "      <td>0</td>\n",
       "      <td>106.68</td>\n",
       "      <td>1</td>\n",
       "      <td>11/6/2018</td>\n",
       "      <td>Not_Canceled</td>\n",
       "    </tr>\n",
       "    <tr>\n",
       "      <th>2</th>\n",
       "      <td>INN00003</td>\n",
       "      <td>2</td>\n",
       "      <td>1</td>\n",
       "      <td>1</td>\n",
       "      <td>3</td>\n",
       "      <td>Meal Plan 1</td>\n",
       "      <td>0</td>\n",
       "      <td>Room_Type 1</td>\n",
       "      <td>1</td>\n",
       "      <td>Online</td>\n",
       "      <td>0</td>\n",
       "      <td>0</td>\n",
       "      <td>0</td>\n",
       "      <td>50.00</td>\n",
       "      <td>0</td>\n",
       "      <td>2/28/2018</td>\n",
       "      <td>Canceled</td>\n",
       "    </tr>\n",
       "    <tr>\n",
       "      <th>3</th>\n",
       "      <td>INN00004</td>\n",
       "      <td>1</td>\n",
       "      <td>0</td>\n",
       "      <td>0</td>\n",
       "      <td>2</td>\n",
       "      <td>Meal Plan 1</td>\n",
       "      <td>0</td>\n",
       "      <td>Room_Type 1</td>\n",
       "      <td>211</td>\n",
       "      <td>Online</td>\n",
       "      <td>0</td>\n",
       "      <td>0</td>\n",
       "      <td>0</td>\n",
       "      <td>100.00</td>\n",
       "      <td>1</td>\n",
       "      <td>5/20/2017</td>\n",
       "      <td>Canceled</td>\n",
       "    </tr>\n",
       "    <tr>\n",
       "      <th>4</th>\n",
       "      <td>INN00005</td>\n",
       "      <td>1</td>\n",
       "      <td>0</td>\n",
       "      <td>1</td>\n",
       "      <td>2</td>\n",
       "      <td>Not Selected</td>\n",
       "      <td>0</td>\n",
       "      <td>Room_Type 1</td>\n",
       "      <td>48</td>\n",
       "      <td>Online</td>\n",
       "      <td>0</td>\n",
       "      <td>0</td>\n",
       "      <td>0</td>\n",
       "      <td>77.00</td>\n",
       "      <td>0</td>\n",
       "      <td>4/11/2018</td>\n",
       "      <td>Canceled</td>\n",
       "    </tr>\n",
       "  </tbody>\n",
       "</table>\n",
       "</div>"
      ],
      "text/plain": [
       "  Booking_ID  number of adults  number of children  number of weekend nights  \\\n",
       "0   INN00001                 1                   1                         2   \n",
       "1   INN00002                 1                   0                         1   \n",
       "2   INN00003                 2                   1                         1   \n",
       "3   INN00004                 1                   0                         0   \n",
       "4   INN00005                 1                   0                         1   \n",
       "\n",
       "   number of week nights  type of meal  car parking space    room type  \\\n",
       "0                      5   Meal Plan 1                  0  Room_Type 1   \n",
       "1                      3  Not Selected                  0  Room_Type 1   \n",
       "2                      3   Meal Plan 1                  0  Room_Type 1   \n",
       "3                      2   Meal Plan 1                  0  Room_Type 1   \n",
       "4                      2  Not Selected                  0  Room_Type 1   \n",
       "\n",
       "   lead time market segment type  repeated  P-C  P-not-C  average price  \\\n",
       "0        224             Offline         0    0        0          88.00   \n",
       "1          5              Online         0    0        0         106.68   \n",
       "2          1              Online         0    0        0          50.00   \n",
       "3        211              Online         0    0        0         100.00   \n",
       "4         48              Online         0    0        0          77.00   \n",
       "\n",
       "   special requests date of reservation booking status  \n",
       "0                 0           10/2/2015   Not_Canceled  \n",
       "1                 1           11/6/2018   Not_Canceled  \n",
       "2                 0           2/28/2018       Canceled  \n",
       "3                 1           5/20/2017       Canceled  \n",
       "4                 0           4/11/2018       Canceled  "
      ]
     },
     "execution_count": 4,
     "metadata": {},
     "output_type": "execute_result"
    }
   ],
   "source": [
    "df.head()"
   ]
  },
  {
   "cell_type": "code",
   "execution_count": 5,
   "id": "1543aedf",
   "metadata": {
    "execution": {
     "iopub.execute_input": "2023-12-04T13:40:54.073063Z",
     "iopub.status.busy": "2023-12-04T13:40:54.071920Z",
     "iopub.status.idle": "2023-12-04T13:40:54.077842Z",
     "shell.execute_reply": "2023-12-04T13:40:54.077038Z"
    },
    "papermill": {
     "duration": 0.016986,
     "end_time": "2023-12-04T13:40:54.080192",
     "exception": false,
     "start_time": "2023-12-04T13:40:54.063206",
     "status": "completed"
    },
    "tags": []
   },
   "outputs": [],
   "source": [
    "temp=df['booking status']"
   ]
  },
  {
   "cell_type": "code",
   "execution_count": 6,
   "id": "1b8a9e34",
   "metadata": {
    "execution": {
     "iopub.execute_input": "2023-12-04T13:40:54.096858Z",
     "iopub.status.busy": "2023-12-04T13:40:54.096156Z",
     "iopub.status.idle": "2023-12-04T13:40:54.108877Z",
     "shell.execute_reply": "2023-12-04T13:40:54.107911Z"
    },
    "papermill": {
     "duration": 0.023779,
     "end_time": "2023-12-04T13:40:54.111372",
     "exception": false,
     "start_time": "2023-12-04T13:40:54.087593",
     "status": "completed"
    },
    "tags": []
   },
   "outputs": [],
   "source": [
    "y=(temp=='Not_Canceled').astype(int)"
   ]
  },
  {
   "cell_type": "code",
   "execution_count": 7,
   "id": "a4164efe",
   "metadata": {
    "execution": {
     "iopub.execute_input": "2023-12-04T13:40:54.127982Z",
     "iopub.status.busy": "2023-12-04T13:40:54.127592Z",
     "iopub.status.idle": "2023-12-04T13:40:54.135149Z",
     "shell.execute_reply": "2023-12-04T13:40:54.134056Z"
    },
    "papermill": {
     "duration": 0.018908,
     "end_time": "2023-12-04T13:40:54.137659",
     "exception": false,
     "start_time": "2023-12-04T13:40:54.118751",
     "status": "completed"
    },
    "tags": []
   },
   "outputs": [
    {
     "data": {
      "text/plain": [
       "0    1\n",
       "1    1\n",
       "2    0\n",
       "3    0\n",
       "4    0\n",
       "Name: booking status, dtype: int64"
      ]
     },
     "execution_count": 7,
     "metadata": {},
     "output_type": "execute_result"
    }
   ],
   "source": [
    "y.head()"
   ]
  },
  {
   "cell_type": "code",
   "execution_count": 8,
   "id": "786bd7be",
   "metadata": {
    "execution": {
     "iopub.execute_input": "2023-12-04T13:40:54.155251Z",
     "iopub.status.busy": "2023-12-04T13:40:54.154563Z",
     "iopub.status.idle": "2023-12-04T13:40:54.170801Z",
     "shell.execute_reply": "2023-12-04T13:40:54.169579Z"
    },
    "papermill": {
     "duration": 0.028532,
     "end_time": "2023-12-04T13:40:54.173774",
     "exception": false,
     "start_time": "2023-12-04T13:40:54.145242",
     "status": "completed"
    },
    "tags": []
   },
   "outputs": [],
   "source": [
    "X=df.drop(['Booking_ID','booking status'], axis=1)"
   ]
  },
  {
   "cell_type": "code",
   "execution_count": 9,
   "id": "30521e55",
   "metadata": {
    "execution": {
     "iopub.execute_input": "2023-12-04T13:40:54.191545Z",
     "iopub.status.busy": "2023-12-04T13:40:54.190331Z",
     "iopub.status.idle": "2023-12-04T13:40:54.210386Z",
     "shell.execute_reply": "2023-12-04T13:40:54.209234Z"
    },
    "papermill": {
     "duration": 0.031801,
     "end_time": "2023-12-04T13:40:54.213282",
     "exception": false,
     "start_time": "2023-12-04T13:40:54.181481",
     "status": "completed"
    },
    "tags": []
   },
   "outputs": [
    {
     "data": {
      "text/html": [
       "<div>\n",
       "<style scoped>\n",
       "    .dataframe tbody tr th:only-of-type {\n",
       "        vertical-align: middle;\n",
       "    }\n",
       "\n",
       "    .dataframe tbody tr th {\n",
       "        vertical-align: top;\n",
       "    }\n",
       "\n",
       "    .dataframe thead th {\n",
       "        text-align: right;\n",
       "    }\n",
       "</style>\n",
       "<table border=\"1\" class=\"dataframe\">\n",
       "  <thead>\n",
       "    <tr style=\"text-align: right;\">\n",
       "      <th></th>\n",
       "      <th>number of adults</th>\n",
       "      <th>number of children</th>\n",
       "      <th>number of weekend nights</th>\n",
       "      <th>number of week nights</th>\n",
       "      <th>type of meal</th>\n",
       "      <th>car parking space</th>\n",
       "      <th>room type</th>\n",
       "      <th>lead time</th>\n",
       "      <th>market segment type</th>\n",
       "      <th>repeated</th>\n",
       "      <th>P-C</th>\n",
       "      <th>P-not-C</th>\n",
       "      <th>average price</th>\n",
       "      <th>special requests</th>\n",
       "      <th>date of reservation</th>\n",
       "    </tr>\n",
       "  </thead>\n",
       "  <tbody>\n",
       "    <tr>\n",
       "      <th>36280</th>\n",
       "      <td>2</td>\n",
       "      <td>0</td>\n",
       "      <td>0</td>\n",
       "      <td>2</td>\n",
       "      <td>Meal Plan 2</td>\n",
       "      <td>0</td>\n",
       "      <td>Room_Type 1</td>\n",
       "      <td>346</td>\n",
       "      <td>Online</td>\n",
       "      <td>0</td>\n",
       "      <td>0</td>\n",
       "      <td>0</td>\n",
       "      <td>115.00</td>\n",
       "      <td>1</td>\n",
       "      <td>9/13/2018</td>\n",
       "    </tr>\n",
       "    <tr>\n",
       "      <th>36281</th>\n",
       "      <td>2</td>\n",
       "      <td>0</td>\n",
       "      <td>1</td>\n",
       "      <td>3</td>\n",
       "      <td>Meal Plan 1</td>\n",
       "      <td>0</td>\n",
       "      <td>Room_Type 1</td>\n",
       "      <td>34</td>\n",
       "      <td>Online</td>\n",
       "      <td>0</td>\n",
       "      <td>0</td>\n",
       "      <td>0</td>\n",
       "      <td>107.55</td>\n",
       "      <td>1</td>\n",
       "      <td>10/15/2017</td>\n",
       "    </tr>\n",
       "    <tr>\n",
       "      <th>36282</th>\n",
       "      <td>2</td>\n",
       "      <td>0</td>\n",
       "      <td>1</td>\n",
       "      <td>3</td>\n",
       "      <td>Meal Plan 1</td>\n",
       "      <td>0</td>\n",
       "      <td>Room_Type 4</td>\n",
       "      <td>83</td>\n",
       "      <td>Online</td>\n",
       "      <td>0</td>\n",
       "      <td>0</td>\n",
       "      <td>0</td>\n",
       "      <td>105.61</td>\n",
       "      <td>1</td>\n",
       "      <td>12/26/2018</td>\n",
       "    </tr>\n",
       "    <tr>\n",
       "      <th>36283</th>\n",
       "      <td>3</td>\n",
       "      <td>0</td>\n",
       "      <td>0</td>\n",
       "      <td>4</td>\n",
       "      <td>Meal Plan 1</td>\n",
       "      <td>0</td>\n",
       "      <td>Room_Type 1</td>\n",
       "      <td>121</td>\n",
       "      <td>Offline</td>\n",
       "      <td>0</td>\n",
       "      <td>0</td>\n",
       "      <td>0</td>\n",
       "      <td>96.90</td>\n",
       "      <td>1</td>\n",
       "      <td>7/6/2018</td>\n",
       "    </tr>\n",
       "    <tr>\n",
       "      <th>36284</th>\n",
       "      <td>2</td>\n",
       "      <td>0</td>\n",
       "      <td>0</td>\n",
       "      <td>5</td>\n",
       "      <td>Meal Plan 1</td>\n",
       "      <td>0</td>\n",
       "      <td>Room_Type 4</td>\n",
       "      <td>44</td>\n",
       "      <td>Online</td>\n",
       "      <td>0</td>\n",
       "      <td>0</td>\n",
       "      <td>0</td>\n",
       "      <td>133.44</td>\n",
       "      <td>3</td>\n",
       "      <td>10/18/2018</td>\n",
       "    </tr>\n",
       "  </tbody>\n",
       "</table>\n",
       "</div>"
      ],
      "text/plain": [
       "       number of adults  number of children  number of weekend nights  \\\n",
       "36280                 2                   0                         0   \n",
       "36281                 2                   0                         1   \n",
       "36282                 2                   0                         1   \n",
       "36283                 3                   0                         0   \n",
       "36284                 2                   0                         0   \n",
       "\n",
       "       number of week nights type of meal  car parking space    room type  \\\n",
       "36280                      2  Meal Plan 2                  0  Room_Type 1   \n",
       "36281                      3  Meal Plan 1                  0  Room_Type 1   \n",
       "36282                      3  Meal Plan 1                  0  Room_Type 4   \n",
       "36283                      4  Meal Plan 1                  0  Room_Type 1   \n",
       "36284                      5  Meal Plan 1                  0  Room_Type 4   \n",
       "\n",
       "       lead time market segment type  repeated  P-C  P-not-C  average price  \\\n",
       "36280        346              Online         0    0        0         115.00   \n",
       "36281         34              Online         0    0        0         107.55   \n",
       "36282         83              Online         0    0        0         105.61   \n",
       "36283        121             Offline         0    0        0          96.90   \n",
       "36284         44              Online         0    0        0         133.44   \n",
       "\n",
       "       special requests date of reservation  \n",
       "36280                 1           9/13/2018  \n",
       "36281                 1          10/15/2017  \n",
       "36282                 1          12/26/2018  \n",
       "36283                 1            7/6/2018  \n",
       "36284                 3          10/18/2018  "
      ]
     },
     "execution_count": 9,
     "metadata": {},
     "output_type": "execute_result"
    }
   ],
   "source": [
    "X.tail()"
   ]
  },
  {
   "cell_type": "code",
   "execution_count": 10,
   "id": "101d3ce7",
   "metadata": {
    "execution": {
     "iopub.execute_input": "2023-12-04T13:40:54.231733Z",
     "iopub.status.busy": "2023-12-04T13:40:54.231050Z",
     "iopub.status.idle": "2023-12-04T13:40:54.238202Z",
     "shell.execute_reply": "2023-12-04T13:40:54.237414Z"
    },
    "papermill": {
     "duration": 0.019161,
     "end_time": "2023-12-04T13:40:54.240648",
     "exception": false,
     "start_time": "2023-12-04T13:40:54.221487",
     "status": "completed"
    },
    "tags": []
   },
   "outputs": [],
   "source": [
    "X=X.drop(['type of meal', 'car parking space','room type','market segment type','date of reservation'], axis=1)"
   ]
  },
  {
   "cell_type": "code",
   "execution_count": 11,
   "id": "1834e3de",
   "metadata": {
    "execution": {
     "iopub.execute_input": "2023-12-04T13:40:54.258665Z",
     "iopub.status.busy": "2023-12-04T13:40:54.257993Z",
     "iopub.status.idle": "2023-12-04T13:40:54.272273Z",
     "shell.execute_reply": "2023-12-04T13:40:54.271133Z"
    },
    "papermill": {
     "duration": 0.026396,
     "end_time": "2023-12-04T13:40:54.274862",
     "exception": false,
     "start_time": "2023-12-04T13:40:54.248466",
     "status": "completed"
    },
    "tags": []
   },
   "outputs": [
    {
     "data": {
      "text/html": [
       "<div>\n",
       "<style scoped>\n",
       "    .dataframe tbody tr th:only-of-type {\n",
       "        vertical-align: middle;\n",
       "    }\n",
       "\n",
       "    .dataframe tbody tr th {\n",
       "        vertical-align: top;\n",
       "    }\n",
       "\n",
       "    .dataframe thead th {\n",
       "        text-align: right;\n",
       "    }\n",
       "</style>\n",
       "<table border=\"1\" class=\"dataframe\">\n",
       "  <thead>\n",
       "    <tr style=\"text-align: right;\">\n",
       "      <th></th>\n",
       "      <th>number of adults</th>\n",
       "      <th>number of children</th>\n",
       "      <th>number of weekend nights</th>\n",
       "      <th>number of week nights</th>\n",
       "      <th>lead time</th>\n",
       "      <th>repeated</th>\n",
       "      <th>P-C</th>\n",
       "      <th>P-not-C</th>\n",
       "      <th>average price</th>\n",
       "      <th>special requests</th>\n",
       "    </tr>\n",
       "  </thead>\n",
       "  <tbody>\n",
       "    <tr>\n",
       "      <th>0</th>\n",
       "      <td>1</td>\n",
       "      <td>1</td>\n",
       "      <td>2</td>\n",
       "      <td>5</td>\n",
       "      <td>224</td>\n",
       "      <td>0</td>\n",
       "      <td>0</td>\n",
       "      <td>0</td>\n",
       "      <td>88.00</td>\n",
       "      <td>0</td>\n",
       "    </tr>\n",
       "    <tr>\n",
       "      <th>1</th>\n",
       "      <td>1</td>\n",
       "      <td>0</td>\n",
       "      <td>1</td>\n",
       "      <td>3</td>\n",
       "      <td>5</td>\n",
       "      <td>0</td>\n",
       "      <td>0</td>\n",
       "      <td>0</td>\n",
       "      <td>106.68</td>\n",
       "      <td>1</td>\n",
       "    </tr>\n",
       "    <tr>\n",
       "      <th>2</th>\n",
       "      <td>2</td>\n",
       "      <td>1</td>\n",
       "      <td>1</td>\n",
       "      <td>3</td>\n",
       "      <td>1</td>\n",
       "      <td>0</td>\n",
       "      <td>0</td>\n",
       "      <td>0</td>\n",
       "      <td>50.00</td>\n",
       "      <td>0</td>\n",
       "    </tr>\n",
       "    <tr>\n",
       "      <th>3</th>\n",
       "      <td>1</td>\n",
       "      <td>0</td>\n",
       "      <td>0</td>\n",
       "      <td>2</td>\n",
       "      <td>211</td>\n",
       "      <td>0</td>\n",
       "      <td>0</td>\n",
       "      <td>0</td>\n",
       "      <td>100.00</td>\n",
       "      <td>1</td>\n",
       "    </tr>\n",
       "    <tr>\n",
       "      <th>4</th>\n",
       "      <td>1</td>\n",
       "      <td>0</td>\n",
       "      <td>1</td>\n",
       "      <td>2</td>\n",
       "      <td>48</td>\n",
       "      <td>0</td>\n",
       "      <td>0</td>\n",
       "      <td>0</td>\n",
       "      <td>77.00</td>\n",
       "      <td>0</td>\n",
       "    </tr>\n",
       "  </tbody>\n",
       "</table>\n",
       "</div>"
      ],
      "text/plain": [
       "   number of adults  number of children  number of weekend nights  \\\n",
       "0                 1                   1                         2   \n",
       "1                 1                   0                         1   \n",
       "2                 2                   1                         1   \n",
       "3                 1                   0                         0   \n",
       "4                 1                   0                         1   \n",
       "\n",
       "   number of week nights  lead time  repeated  P-C  P-not-C  average price  \\\n",
       "0                      5        224         0    0        0          88.00   \n",
       "1                      3          5         0    0        0         106.68   \n",
       "2                      3          1         0    0        0          50.00   \n",
       "3                      2        211         0    0        0         100.00   \n",
       "4                      2         48         0    0        0          77.00   \n",
       "\n",
       "   special requests  \n",
       "0                 0  \n",
       "1                 1  \n",
       "2                 0  \n",
       "3                 1  \n",
       "4                 0  "
      ]
     },
     "execution_count": 11,
     "metadata": {},
     "output_type": "execute_result"
    }
   ],
   "source": [
    "X.head()"
   ]
  },
  {
   "cell_type": "code",
   "execution_count": 12,
   "id": "ed259360",
   "metadata": {
    "execution": {
     "iopub.execute_input": "2023-12-04T13:40:54.293396Z",
     "iopub.status.busy": "2023-12-04T13:40:54.293003Z",
     "iopub.status.idle": "2023-12-04T13:40:54.300047Z",
     "shell.execute_reply": "2023-12-04T13:40:54.299239Z"
    },
    "papermill": {
     "duration": 0.019014,
     "end_time": "2023-12-04T13:40:54.302145",
     "exception": false,
     "start_time": "2023-12-04T13:40:54.283131",
     "status": "completed"
    },
    "tags": []
   },
   "outputs": [
    {
     "data": {
      "text/plain": [
       "0    1\n",
       "1    1\n",
       "2    0\n",
       "3    0\n",
       "4    0\n",
       "Name: booking status, dtype: int64"
      ]
     },
     "execution_count": 12,
     "metadata": {},
     "output_type": "execute_result"
    }
   ],
   "source": [
    "y.head()"
   ]
  },
  {
   "cell_type": "code",
   "execution_count": 13,
   "id": "2e9ea738",
   "metadata": {
    "execution": {
     "iopub.execute_input": "2023-12-04T13:40:54.320848Z",
     "iopub.status.busy": "2023-12-04T13:40:54.320211Z",
     "iopub.status.idle": "2023-12-04T13:40:55.557897Z",
     "shell.execute_reply": "2023-12-04T13:40:55.556717Z"
    },
    "papermill": {
     "duration": 1.250167,
     "end_time": "2023-12-04T13:40:55.560651",
     "exception": false,
     "start_time": "2023-12-04T13:40:54.310484",
     "status": "completed"
    },
    "tags": []
   },
   "outputs": [],
   "source": [
    "from sklearn.model_selection import train_test_split\n",
    "X_train,X_test,y_train,y_test=train_test_split(X,y,test_size=0.2, random_state=42)"
   ]
  },
  {
   "cell_type": "code",
   "execution_count": 14,
   "id": "e4f69316",
   "metadata": {
    "execution": {
     "iopub.execute_input": "2023-12-04T13:40:55.579471Z",
     "iopub.status.busy": "2023-12-04T13:40:55.578997Z",
     "iopub.status.idle": "2023-12-04T13:40:56.201661Z",
     "shell.execute_reply": "2023-12-04T13:40:56.199992Z"
    },
    "papermill": {
     "duration": 0.639418,
     "end_time": "2023-12-04T13:40:56.208468",
     "exception": false,
     "start_time": "2023-12-04T13:40:55.569050",
     "status": "completed"
    },
    "tags": []
   },
   "outputs": [
    {
     "name": "stderr",
     "output_type": "stream",
     "text": [
      "/opt/conda/lib/python3.10/site-packages/sklearn/linear_model/_logistic.py:458: ConvergenceWarning: lbfgs failed to converge (status=1):\n",
      "STOP: TOTAL NO. of ITERATIONS REACHED LIMIT.\n",
      "\n",
      "Increase the number of iterations (max_iter) or scale the data as shown in:\n",
      "    https://scikit-learn.org/stable/modules/preprocessing.html\n",
      "Please also refer to the documentation for alternative solver options:\n",
      "    https://scikit-learn.org/stable/modules/linear_model.html#logistic-regression\n",
      "  n_iter_i = _check_optimize_result(\n"
     ]
    },
    {
     "data": {
      "text/html": [
       "<style>#sk-container-id-1 {color: black;background-color: white;}#sk-container-id-1 pre{padding: 0;}#sk-container-id-1 div.sk-toggleable {background-color: white;}#sk-container-id-1 label.sk-toggleable__label {cursor: pointer;display: block;width: 100%;margin-bottom: 0;padding: 0.3em;box-sizing: border-box;text-align: center;}#sk-container-id-1 label.sk-toggleable__label-arrow:before {content: \"▸\";float: left;margin-right: 0.25em;color: #696969;}#sk-container-id-1 label.sk-toggleable__label-arrow:hover:before {color: black;}#sk-container-id-1 div.sk-estimator:hover label.sk-toggleable__label-arrow:before {color: black;}#sk-container-id-1 div.sk-toggleable__content {max-height: 0;max-width: 0;overflow: hidden;text-align: left;background-color: #f0f8ff;}#sk-container-id-1 div.sk-toggleable__content pre {margin: 0.2em;color: black;border-radius: 0.25em;background-color: #f0f8ff;}#sk-container-id-1 input.sk-toggleable__control:checked~div.sk-toggleable__content {max-height: 200px;max-width: 100%;overflow: auto;}#sk-container-id-1 input.sk-toggleable__control:checked~label.sk-toggleable__label-arrow:before {content: \"▾\";}#sk-container-id-1 div.sk-estimator input.sk-toggleable__control:checked~label.sk-toggleable__label {background-color: #d4ebff;}#sk-container-id-1 div.sk-label input.sk-toggleable__control:checked~label.sk-toggleable__label {background-color: #d4ebff;}#sk-container-id-1 input.sk-hidden--visually {border: 0;clip: rect(1px 1px 1px 1px);clip: rect(1px, 1px, 1px, 1px);height: 1px;margin: -1px;overflow: hidden;padding: 0;position: absolute;width: 1px;}#sk-container-id-1 div.sk-estimator {font-family: monospace;background-color: #f0f8ff;border: 1px dotted black;border-radius: 0.25em;box-sizing: border-box;margin-bottom: 0.5em;}#sk-container-id-1 div.sk-estimator:hover {background-color: #d4ebff;}#sk-container-id-1 div.sk-parallel-item::after {content: \"\";width: 100%;border-bottom: 1px solid gray;flex-grow: 1;}#sk-container-id-1 div.sk-label:hover label.sk-toggleable__label {background-color: #d4ebff;}#sk-container-id-1 div.sk-serial::before {content: \"\";position: absolute;border-left: 1px solid gray;box-sizing: border-box;top: 0;bottom: 0;left: 50%;z-index: 0;}#sk-container-id-1 div.sk-serial {display: flex;flex-direction: column;align-items: center;background-color: white;padding-right: 0.2em;padding-left: 0.2em;position: relative;}#sk-container-id-1 div.sk-item {position: relative;z-index: 1;}#sk-container-id-1 div.sk-parallel {display: flex;align-items: stretch;justify-content: center;background-color: white;position: relative;}#sk-container-id-1 div.sk-item::before, #sk-container-id-1 div.sk-parallel-item::before {content: \"\";position: absolute;border-left: 1px solid gray;box-sizing: border-box;top: 0;bottom: 0;left: 50%;z-index: -1;}#sk-container-id-1 div.sk-parallel-item {display: flex;flex-direction: column;z-index: 1;position: relative;background-color: white;}#sk-container-id-1 div.sk-parallel-item:first-child::after {align-self: flex-end;width: 50%;}#sk-container-id-1 div.sk-parallel-item:last-child::after {align-self: flex-start;width: 50%;}#sk-container-id-1 div.sk-parallel-item:only-child::after {width: 0;}#sk-container-id-1 div.sk-dashed-wrapped {border: 1px dashed gray;margin: 0 0.4em 0.5em 0.4em;box-sizing: border-box;padding-bottom: 0.4em;background-color: white;}#sk-container-id-1 div.sk-label label {font-family: monospace;font-weight: bold;display: inline-block;line-height: 1.2em;}#sk-container-id-1 div.sk-label-container {text-align: center;}#sk-container-id-1 div.sk-container {/* jupyter's `normalize.less` sets `[hidden] { display: none; }` but bootstrap.min.css set `[hidden] { display: none !important; }` so we also need the `!important` here to be able to override the default hidden behavior on the sphinx rendered scikit-learn.org. See: https://github.com/scikit-learn/scikit-learn/issues/21755 */display: inline-block !important;position: relative;}#sk-container-id-1 div.sk-text-repr-fallback {display: none;}</style><div id=\"sk-container-id-1\" class=\"sk-top-container\"><div class=\"sk-text-repr-fallback\"><pre>LogisticRegression()</pre><b>In a Jupyter environment, please rerun this cell to show the HTML representation or trust the notebook. <br />On GitHub, the HTML representation is unable to render, please try loading this page with nbviewer.org.</b></div><div class=\"sk-container\" hidden><div class=\"sk-item\"><div class=\"sk-estimator sk-toggleable\"><input class=\"sk-toggleable__control sk-hidden--visually\" id=\"sk-estimator-id-1\" type=\"checkbox\" checked><label for=\"sk-estimator-id-1\" class=\"sk-toggleable__label sk-toggleable__label-arrow\">LogisticRegression</label><div class=\"sk-toggleable__content\"><pre>LogisticRegression()</pre></div></div></div></div></div>"
      ],
      "text/plain": [
       "LogisticRegression()"
      ]
     },
     "execution_count": 14,
     "metadata": {},
     "output_type": "execute_result"
    }
   ],
   "source": [
    "from sklearn.linear_model import LogisticRegression\n",
    "lr=LogisticRegression()\n",
    "lr.fit(X_train,y_train)"
   ]
  },
  {
   "cell_type": "code",
   "execution_count": 15,
   "id": "f3e6a12c",
   "metadata": {
    "execution": {
     "iopub.execute_input": "2023-12-04T13:40:56.248852Z",
     "iopub.status.busy": "2023-12-04T13:40:56.248126Z",
     "iopub.status.idle": "2023-12-04T13:40:56.270671Z",
     "shell.execute_reply": "2023-12-04T13:40:56.269102Z"
    },
    "papermill": {
     "duration": 0.048345,
     "end_time": "2023-12-04T13:40:56.275795",
     "exception": false,
     "start_time": "2023-12-04T13:40:56.227450",
     "status": "completed"
    },
    "tags": []
   },
   "outputs": [],
   "source": [
    "y_lr_train_pred=lr.predict(X_train)\n",
    "y_lr_test_pred=lr.predict(X_test)"
   ]
  },
  {
   "cell_type": "code",
   "execution_count": 16,
   "id": "3d146f0a",
   "metadata": {
    "execution": {
     "iopub.execute_input": "2023-12-04T13:40:56.316154Z",
     "iopub.status.busy": "2023-12-04T13:40:56.315428Z",
     "iopub.status.idle": "2023-12-04T13:40:56.333529Z",
     "shell.execute_reply": "2023-12-04T13:40:56.331748Z"
    },
    "papermill": {
     "duration": 0.043772,
     "end_time": "2023-12-04T13:40:56.338707",
     "exception": false,
     "start_time": "2023-12-04T13:40:56.294935",
     "status": "completed"
    },
    "tags": []
   },
   "outputs": [
    {
     "name": "stdout",
     "output_type": "stream",
     "text": [
      "387      0\n",
      "7768     0\n",
      "11792    0\n",
      "7978     0\n",
      "10670    0\n",
      "        ..\n",
      "16850    1\n",
      "6265     0\n",
      "11284    1\n",
      "860      0\n",
      "15795    1\n",
      "Name: booking status, Length: 29028, dtype: int64\n"
     ]
    }
   ],
   "source": [
    "print(y_train)"
   ]
  },
  {
   "cell_type": "code",
   "execution_count": 17,
   "id": "85f8921f",
   "metadata": {
    "execution": {
     "iopub.execute_input": "2023-12-04T13:40:56.379002Z",
     "iopub.status.busy": "2023-12-04T13:40:56.378282Z",
     "iopub.status.idle": "2023-12-04T13:40:56.387330Z",
     "shell.execute_reply": "2023-12-04T13:40:56.385800Z"
    },
    "papermill": {
     "duration": 0.036165,
     "end_time": "2023-12-04T13:40:56.393541",
     "exception": false,
     "start_time": "2023-12-04T13:40:56.357376",
     "status": "completed"
    },
    "tags": []
   },
   "outputs": [
    {
     "name": "stdout",
     "output_type": "stream",
     "text": [
      "[1 0 0 ... 1 0 1]\n"
     ]
    }
   ],
   "source": [
    "print(y_lr_train_pred)"
   ]
  },
  {
   "cell_type": "code",
   "execution_count": 18,
   "id": "50b3dfc5",
   "metadata": {
    "execution": {
     "iopub.execute_input": "2023-12-04T13:40:56.413545Z",
     "iopub.status.busy": "2023-12-04T13:40:56.412724Z",
     "iopub.status.idle": "2023-12-04T13:40:56.426599Z",
     "shell.execute_reply": "2023-12-04T13:40:56.425276Z"
    },
    "papermill": {
     "duration": 0.028195,
     "end_time": "2023-12-04T13:40:56.430573",
     "exception": false,
     "start_time": "2023-12-04T13:40:56.402378",
     "status": "completed"
    },
    "tags": []
   },
   "outputs": [
    {
     "name": "stdout",
     "output_type": "stream",
     "text": [
      "Accuracy: 0.7752514813283726\n"
     ]
    }
   ],
   "source": [
    "from sklearn.metrics import accuracy_score\n",
    "predictions = lr.predict(X_test)\n",
    "accuracy = accuracy_score(y_test, predictions)\n",
    "print(\"Accuracy:\", accuracy)"
   ]
  },
  {
   "cell_type": "code",
   "execution_count": null,
   "id": "0389c746",
   "metadata": {
    "papermill": {
     "duration": 0.019152,
     "end_time": "2023-12-04T13:40:56.469175",
     "exception": false,
     "start_time": "2023-12-04T13:40:56.450023",
     "status": "completed"
    },
    "tags": []
   },
   "outputs": [],
   "source": []
  }
 ],
 "metadata": {
  "kaggle": {
   "accelerator": "none",
   "dataSources": [
    {
     "datasetId": 4098886,
     "sourceId": 7109261,
     "sourceType": "datasetVersion"
    }
   ],
   "dockerImageVersionId": 30587,
   "isGpuEnabled": false,
   "isInternetEnabled": false,
   "language": "python",
   "sourceType": "notebook"
  },
  "kernelspec": {
   "display_name": "Python 3",
   "language": "python",
   "name": "python3"
  },
  "language_info": {
   "codemirror_mode": {
    "name": "ipython",
    "version": 3
   },
   "file_extension": ".py",
   "mimetype": "text/x-python",
   "name": "python",
   "nbconvert_exporter": "python",
   "pygments_lexer": "ipython3",
   "version": "3.10.12"
  },
  "papermill": {
   "default_parameters": {},
   "duration": 7.37617,
   "end_time": "2023-12-04T13:40:57.119054",
   "environment_variables": {},
   "exception": null,
   "input_path": "__notebook__.ipynb",
   "output_path": "__notebook__.ipynb",
   "parameters": {},
   "start_time": "2023-12-04T13:40:49.742884",
   "version": "2.4.0"
  }
 },
 "nbformat": 4,
 "nbformat_minor": 5
}
